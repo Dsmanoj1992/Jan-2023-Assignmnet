{
 "cells": [
  {
   "cell_type": "markdown",
   "id": "ff64c1a3",
   "metadata": {},
   "source": [
    "# Q1. Who developed Python Programming Language? "
   ]
  },
  {
   "cell_type": "markdown",
   "id": "0ed5d85f",
   "metadata": {},
   "source": [
    "#### Ans)  Python was developed by Guido van Rossum and first released in 1991."
   ]
  },
  {
   "cell_type": "markdown",
   "id": "496015d2",
   "metadata": {},
   "source": [
    "# Q2.  Which type of Programming does Python support?"
   ]
  },
  {
   "cell_type": "markdown",
   "id": "a7c82329",
   "metadata": {},
   "source": [
    "### Ans)  Python is a multi-paradigm programming language, which means it supports multiple programming styles including:\n",
    "\n",
    "1.Object-Oriented Programming (OOP)\n",
    "\n",
    "2.Imperative Programming\n",
    "\n",
    "3.Functional Programming\n",
    "\n",
    "4.Procedural Programming"
   ]
  },
  {
   "cell_type": "markdown",
   "id": "4aa91e99",
   "metadata": {},
   "source": [
    "# Q3. Is Python case sensitive when dealing with identifiers?"
   ]
  },
  {
   "cell_type": "markdown",
   "id": "98575875",
   "metadata": {},
   "source": [
    "### Ans) Yes, Python is case sensitive when dealing with identifiers, such as variable names, function names, and class names."
   ]
  },
  {
   "cell_type": "markdown",
   "id": "ae416f5f",
   "metadata": {},
   "source": [
    "# Q4.  What is the correct extension of the Python file?"
   ]
  },
  {
   "cell_type": "markdown",
   "id": "1c8a0a21",
   "metadata": {},
   "source": [
    "### Ans)  The correct extension is .py"
   ]
  },
  {
   "cell_type": "markdown",
   "id": "11019f63",
   "metadata": {},
   "source": [
    "# Q5. Is Python code compiled or interpreted?"
   ]
  },
  {
   "cell_type": "markdown",
   "id": "326859db",
   "metadata": {},
   "source": [
    "### Ans) \n",
    "Python is an interpreted language"
   ]
  },
  {
   "cell_type": "markdown",
   "id": "7895197e",
   "metadata": {},
   "source": [
    "# Q6. Name a few blocks of code used to define in Python language?"
   ]
  },
  {
   "cell_type": "markdown",
   "id": "5034e952",
   "metadata": {},
   "source": [
    "### Ans) \n",
    "1. Functions - defined using the \"def\" keyword.\n",
    "2. Classes - defined using the \"class\" keyword.\n",
    "3. If-else statements - used to control the flow of a program based on conditions.\n",
    "4. For loops - used to iterate over a sequence of items.\n",
    "5. While loops - used to repeatedly execute a block of code as long as a condition is true.\n"
   ]
  },
  {
   "cell_type": "markdown",
   "id": "9be927b5",
   "metadata": {},
   "source": [
    "# Q7. State a character used to give single-line comments in Python?"
   ]
  },
  {
   "cell_type": "markdown",
   "id": "6a955d5b",
   "metadata": {},
   "source": [
    "### Ans) \n",
    "In Python, single-line comments are indicated by the hash symbol (#)."
   ]
  },
  {
   "cell_type": "markdown",
   "id": "24741e97",
   "metadata": {},
   "source": [
    "# Q8.  Mention functions which can help us to find the version of python that we are currently working on?"
   ]
  },
  {
   "cell_type": "markdown",
   "id": "5b2305e8",
   "metadata": {},
   "source": [
    "### Ans) \n",
    "platform.python_version"
   ]
  },
  {
   "cell_type": "markdown",
   "id": "05d8c7a2",
   "metadata": {},
   "source": [
    "# Q9. What does pip stand for python?"
   ]
  },
  {
   "cell_type": "markdown",
   "id": "91d5c674",
   "metadata": {},
   "source": [
    "### Ans) \n",
    "pip makes it easy to install and manage packages and libraries required for your Python projects, saving you the time and hassle of manually downloading and installing individual packages."
   ]
  },
  {
   "cell_type": "markdown",
   "id": "65b12105",
   "metadata": {},
   "source": [
    "# Q10. Mention a few built-in functions in python?"
   ]
  },
  {
   "cell_type": "markdown",
   "id": "ef3dc344",
   "metadata": {},
   "source": [
    "### Ans)\n",
    "1.print()\n",
    "\n",
    "2.len()\n",
    "\n",
    "3.int()\n",
    "\n",
    "4.float()\n",
    "\n",
    "5.str()\n",
    "\n",
    "6.min()\n",
    "\n",
    "7.max()\n",
    "\n",
    "8.sorted()\n",
    "\n",
    "9.sum()\n",
    "\n",
    "10.abs()\n"
   ]
  },
  {
   "cell_type": "markdown",
   "id": "92a63a2d",
   "metadata": {},
   "source": [
    "# Q11. Python supports the creation of anonymous functions at runtime, using a construct called "
   ]
  },
  {
   "cell_type": "markdown",
   "id": "4fa30700",
   "metadata": {},
   "source": [
    "### ans) The lambda keyword is used to create small, anonymous functions in Python."
   ]
  },
  {
   "cell_type": "markdown",
   "id": "526fb85f",
   "metadata": {},
   "source": [
    "# Q12. What is the maximum possible length of an identifier in Python?"
   ]
  },
  {
   "cell_type": "markdown",
   "id": "fe6a67d5",
   "metadata": {},
   "source": [
    "### Ans) \n",
    "There is no explicit limit on the length of an identifier in Python."
   ]
  },
  {
   "cell_type": "markdown",
   "id": "36430d3f",
   "metadata": {},
   "source": [
    "# Q13. What are the benefits of using Python?"
   ]
  },
  {
   "cell_type": "markdown",
   "id": "b7c743b8",
   "metadata": {},
   "source": [
    "### Ans) \n",
    "1. Easy to Learn and Use: Python has a simple and straightforward syntax, making it easy to learn and understand. This makes it an ideal language for beginners and those new to programming.\n",
    "\n",
    "\n",
    "2. Versatile: Python can be used for a wide range of tasks, including web development, scientific computing, data analysis, artificial intelligence, and more.\n",
    "\n",
    "3.Large Standard Library: Python has a large standard library that includes modules for tasks such as connecting to web servers, reading and writing files, and working with data. This makes it easier to perform common tasks without having to write a lot of code.\n",
    "\n",
    "4.Dynamic Typing: Python uses dynamic typing, which means that you do not need to specify the data type of a variable when declaring it. This makes it easier to write and maintain code, as well as more flexible."
   ]
  },
  {
   "cell_type": "markdown",
   "id": "aefa3e0a",
   "metadata": {},
   "source": [
    "# Q14. How is memory managed in Python? "
   ]
  },
  {
   "cell_type": "markdown",
   "id": "d4e7a7c7",
   "metadata": {},
   "source": [
    "### Ans) \n",
    "This automatic memory management makes it easier for Python programmers to write code, as they do not need to worry about managing memory manually. However, it can also make it harder to predict the performance of a Python program, as the behavior of the garbage collector is not always predictable."
   ]
  },
  {
   "cell_type": "markdown",
   "id": "75d8b282",
   "metadata": {},
   "source": [
    "# Q15.  How to install Python on Windows and set path variables? 16. Is indentation required in python? "
   ]
  },
  {
   "cell_type": "markdown",
   "id": "3db62d82",
   "metadata": {},
   "source": [
    "### Ans) \n",
    "1. Installing Python on Windows:\n",
    "\n",
    "Go to the Python website (https://www.python.org/downloads/) and download the latest version of Python for Windows.\n",
    "Run the installer, and follow the instructions to complete the installation.\n",
    "Once the installation is complete, you can verify that Python is installed correctly by opening a command prompt and running the following command: python --version. This should display the version of Python that you have installed.\n",
    "    \n",
    "2.Setting Path Variables:\n",
    "\n",
    "Open the Start menu and search for \"Environment Variables\".\n",
    "Click on \"Edit the system environment variables\".\n",
    "In the System Properties window, click on the \"Environment Variables\" button.\n",
    "In the Environment Variables window, scroll down to the \"System Variables\" section and find the \"Path\" variable.\n",
    "Click on the \"Edit\" button, and then click on \"New\".\n",
    "Enter the path to the Python installation, typically \"C:\\PythonXX\", where \"XX\" is the version number of Python that you have installed.\n",
    "Click on \"OK\" to close all windows and save the changes.  "
   ]
  },
  {
   "cell_type": "markdown",
   "id": "2adc24b1",
   "metadata": {},
   "source": [
    "# Q16. Is indentation required in python? "
   ]
  },
  {
   "cell_type": "markdown",
   "id": "dd0ca491",
   "metadata": {},
   "source": [
    "### Ans)\n",
    "\n",
    "Yes, indentation is required in Python. In Python, indentation is used to define blocks of code, such as the body of a loop or the contents of a function."
   ]
  },
  {
   "cell_type": "code",
   "execution_count": null,
   "id": "387ce878",
   "metadata": {},
   "outputs": [],
   "source": []
  }
 ],
 "metadata": {
  "kernelspec": {
   "display_name": "Python 3 (ipykernel)",
   "language": "python",
   "name": "python3"
  },
  "language_info": {
   "codemirror_mode": {
    "name": "ipython",
    "version": 3
   },
   "file_extension": ".py",
   "mimetype": "text/x-python",
   "name": "python",
   "nbconvert_exporter": "python",
   "pygments_lexer": "ipython3",
   "version": "3.9.7"
  }
 },
 "nbformat": 4,
 "nbformat_minor": 5
}
